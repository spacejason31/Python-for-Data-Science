{
 "cells": [
  {
   "cell_type": "code",
   "execution_count": null,
   "metadata": {},
   "outputs": [],
   "source": [
    "s = \"6.00 is 6.0001 and 6.0002\"\n",
    "new_str = \"\"\n",
    "new_str += s[-1]\n",
    "print(new_str)\n",
    "new_str += s[0]\n",
    "print(new_str)\n",
    "new_str += s[4::30]\n",
    "print(new_str)    \n",
    "new_str += s[13:10:-1]\n",
    "print(new_str)"
   ]
  },
  {
   "cell_type": "code",
   "execution_count": null,
   "metadata": {},
   "outputs": [],
   "source": [
    "def add(x, y):\n",
    "    return x+y\n",
    "\n",
    "def mult(x, y):\n",
    "    print(x*y)\n",
    "\n",
    "add(1,2)\n",
    "print(add(2,3))\n",
    "mult(3,4)\n",
    "print(mult(4,5))"
   ]
  },
  {
   "cell_type": "code",
   "execution_count": null,
   "metadata": {},
   "outputs": [],
   "source": [
    "0 % 2"
   ]
  },
  {
   "cell_type": "code",
   "execution_count": null,
   "metadata": {},
   "outputs": [],
   "source": [
    "round(0*100/80, 1)"
   ]
  },
  {
   "cell_type": "code",
   "execution_count": null,
   "metadata": {},
   "outputs": [],
   "source": []
  }
 ],
 "metadata": {
  "language_info": {
   "codemirror_mode": {
    "name": "ipython",
    "version": 3
   },
   "file_extension": ".py",
   "mimetype": "text/x-python",
   "name": "python",
   "nbconvert_exporter": "python",
   "pygments_lexer": "ipython3",
   "version": "3.7.7-final"
  },
  "orig_nbformat": 2,
  "kernelspec": {
   "name": "python37764bitpython37condad288a9a59181492e9b9172fe0350a095",
   "display_name": "Python 3.7.7 64-bit ('Python37': conda)"
  }
 },
 "nbformat": 4,
 "nbformat_minor": 2
}