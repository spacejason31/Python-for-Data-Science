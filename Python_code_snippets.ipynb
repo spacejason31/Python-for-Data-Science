{
 "cells": [
  {
   "cell_type": "markdown",
   "metadata": {},
   "source": [
    "# Code Snippets for Python Use"
   ]
  },
  {
   "cell_type": "markdown",
   "metadata": {},
   "source": [
    "## General Python\n",
    "\n",
    "```\n",
    "a = [1,2,3]\n",
    "b = [4,5,6]\n",
    "```\n",
    "\n",
    "- Append a list (nested): `a.append(b): [1,2,3,[4,5,6]]`\n",
    "- Extend a list (iterated): `a.extend(b): [1,2,3,4,5,6]`\n",
    "- Sort a list alphabetically: `a.sort`\n",
    "\n",
    "## Classes\n",
    "\n",
    "```\n",
    "class Animal(object):\n",
    "    def __init__(self, age):\n",
    "        self.age= age\n",
    "        self.name = None\n",
    "    def get_age(self):\n",
    "        return self.age\n",
    "    def get_name(self):\n",
    "        return self.name\n",
    "    def set_age(self, newage):\n",
    "        self.age= newage\n",
    "    def set_name(self, newname=\"\"):\n",
    "        self.name = newname\n",
    "    def__str__(self):\n",
    "        return \"animal:\"+str(self.name)+\":\"+str(self.age)\n",
    "```\n",
    "- creates class \"Animal\" with input \"age\"\n",
    "- defines 2 getter and setter functions that can be used outside the class to access data attributes (better than accessing data directly e.g. a.age or a.name)\n",
    "```\n",
    "class Dog(Animal):\n",
    "        def speak(self):\n",
    "        print(\"ruff ruff\")\n",
    "```\n",
    "- creates subclass \"Dog\" that accesses the class \"Animal\" __init__ function\n",
    "```\n",
    "(line1) d = Dog(7)\n",
    "(line2) d.set_name(\"Ruffles\")\n",
    "(line3) d.speak()\n",
    "```\n",
    "1. creates a \"Dog\" object with age = 7\n",
    "2. sets the object \"d\" name = \"Ruffles\" (note: the object is still accessed from \"d\", it now has the attribute name = \"Ruffles\")\n",
    "3. prints \"ruff ruff\" from the subclass \"Dog\""
   ]
  },
  {
   "cell_type": "markdown",
   "metadata": {},
   "source": [
    "## Numpy\n",
    "### General\n",
    "- Import numpy: `import numpy as numpy`\n",
    "- Create array: `a = np.array([1,2,3,4,5])`\n",
    "- Range of values: `a = np.linespace(x,y,z)`\n",
    "```\n",
    "        x --> first of sequence\n",
    "        y --> last of sequence\n",
    "        z --> number of values in sequence\n",
    "```\n",
    "- Check the array type:  `type(a)`\n",
    "- Check the array shape: `np.shape(a)`\n",
    "- Check the type of data in the array: `a.dtype`\n",
    "\n",
    "\n",
    "- Value of pi: `np.pi`"
   ]
  },
  {
   "cell_type": "markdown",
   "metadata": {},
   "source": [
    "### Basic Operations (1D Arrays)\n",
    "- Mean: `a.mean()`\n",
    "- Addition: `a.sum()`\n",
    "- Standard Deviation: `a.std()`\n",
    "- Maximum: `a.max()`\n",
    "- Minimum: `a.min()`\n",
    "\n",
    "`u = np.array([1,0])` `v = np.array([0,1])`\n",
    "- Addition: `z = u + v` --> `z:([1,0])`\n",
    "          or `z = u + 2` --> `z:([2,1])`\n",
    "- Subtraction: `z = u - v` --> `z:([1,-1])`\n",
    "          or `z = u - 2` --> `z:([-1,-2])`\n",
    "- Multiplication: `z = u * v` --> `z:([0,0])`\n",
    "          or `z = u * 2` --> `z:([2,0])`\n",
    "- Division: `z = u / v` --> `z:([inf, 0.])`\n",
    "          or `z = u / 2` --> `z:([0.5, 0.])`\n",
    "- Trigonometry: `z = np.sin(u)` --> `z:([0.841471,0.])`"
   ]
  },
  {
   "cell_type": "markdown",
   "metadata": {},
   "source": [
    "### Matplotlib\n",
    "\n",
    "- Import matplotlib: \n",
    "```\n",
    "    import matplotlib.pylot as plt\n",
    "    %matplotlib inline\n",
    "```\n",
    "- Create x variable: `x = np.linespace(0, 2*np.pi, 100)`\n",
    "- Create y variable from x variable: `y = np.sin(x) + 2`\n",
    "- Plot variables: `plt.plot(x,y)`"
   ]
  },
  {
   "cell_type": "markdown",
   "metadata": {},
   "source": [
    "### 2D Arrays\n",
    "\n",
    "- Create np array: `A = np.array([[h1, h2, h3], [i1,i2,i3], [j1, j2, j3]])`\n",
    "- Find array dimensions: `A.ndim`\n",
    "- Find array shape: `A.shape`\n",
    "- Find total # elements: `A.size`\n",
    "- Transpose array: `A.T`"
   ]
  }
 ],
 "metadata": {
  "language_info": {
   "codemirror_mode": {
    "name": "ipython",
    "version": 3
   },
   "file_extension": ".py",
   "mimetype": "text/x-python",
   "name": "python",
   "nbconvert_exporter": "python",
   "pygments_lexer": "ipython3",
   "version": "3.7.7-final"
  },
  "orig_nbformat": 2,
  "kernelspec": {
   "name": "python37764bitpython37condad288a9a59181492e9b9172fe0350a095",
   "display_name": "Python 3.7.7 64-bit ('Python37': conda)"
  }
 },
 "nbformat": 4,
 "nbformat_minor": 2
}