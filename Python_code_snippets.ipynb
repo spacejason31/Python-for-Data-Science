{
 "cells": [
  {
   "cell_type": "markdown",
   "metadata": {},
   "source": [
    "# Code Snippets for Python Use"
   ]
  },
  {
   "cell_type": "markdown",
   "metadata": {},
   "source": [
    "## Numpy\n",
    "### General\n",
    "- Import numpy: `import numpy as numpy`\n",
    "- Create array: `a = np.array([1,2,3,4,5])`\n",
    "- Check the array type:  `type(a)`\n",
    "- Check the array shape: `np.shape(a)`\n",
    "- Check the type of data in the array: `a.dtype`"
   ]
  },
  {
   "cell_type": "markdown",
   "metadata": {},
   "source": [
    "### Basic Operations (1D Arrays)\n",
    "- Mean: a.mean\n"
   ]
  }
 ],
 "metadata": {
  "language_info": {
   "codemirror_mode": {
    "name": "ipython",
    "version": 3
   },
   "file_extension": ".py",
   "mimetype": "text/x-python",
   "name": "python",
   "nbconvert_exporter": "python",
   "pygments_lexer": "ipython3",
   "version": "3.7.7-final"
  },
  "orig_nbformat": 2,
  "kernelspec": {
   "name": "python37764bitpython37condad288a9a59181492e9b9172fe0350a095",
   "display_name": "Python 3.7.7 64-bit ('Python37': conda)"
  }
 },
 "nbformat": 4,
 "nbformat_minor": 2
}